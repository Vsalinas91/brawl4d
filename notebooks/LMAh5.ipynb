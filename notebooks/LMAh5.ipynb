{
 "metadata": {
  "name": "LMAh5"
 },
 "nbformat": 3,
 "nbformat_minor": 0,
 "worksheets": [
  {
   "cells": [
    {
     "cell_type": "code",
     "collapsed": true,
     "input": [
      "%pylab\n",
      "from brawl4d.brawl4d import B4D_startup, get_demo_dataset, plot_demo_dataset"
     ],
     "language": "python",
     "metadata": {},
     "outputs": [
      {
       "output_type": "stream",
       "stream": "stdout",
       "text": [
        "\n",
        "Welcome to pylab, a matplotlib-based Python environment [backend: Qt4Agg].\n",
        "For more information, type 'help(pylab)'.\n"
       ]
      },
      {
       "output_type": "stream",
       "stream": "stderr",
       "text": [
        "/Library/Frameworks/Python.framework/Versions/7.2/lib/python2.7/site-packages/matplotlib/__init__.py:908: UserWarning:  This call to matplotlib.use() has no effect\n",
        "because the the backend has already been chosen;\n",
        "matplotlib.use() must be called *before* pylab, matplotlib.pyplot,\n",
        "or matplotlib.backends is imported for the first time.\n",
        "\n",
        "  if warn: warnings.warn(_use_error_msg)\n"
       ]
      }
     ],
     "prompt_number": 1
    },
    {
     "cell_type": "code",
     "collapsed": false,
     "input": [
      "from datetime import datetime\n",
      "panels = B4D_startup(basedate=datetime(2013,6,6))"
     ],
     "language": "python",
     "metadata": {},
     "outputs": [],
     "prompt_number": 2
    },
    {
     "cell_type": "code",
     "collapsed": false,
     "input": [
      "from brawl4d.LMA.controller import LMAController\n",
      "\n",
      "lma_ctrl = LMAController()\n",
      "d = lma_ctrl.load_hdf5('/data/20130606/LMA/LYLOUT_130606_030000_0600.dat.flash.h5')\n",
      "post_filter_brancher, post_transform_branch_to_scatter_artists, charge_lasso = lma_ctrl.pipeline_for_dataset(d, panels)"
     ],
     "language": "python",
     "metadata": {},
     "outputs": [],
     "prompt_number": 3
    },
    {
     "cell_type": "code",
     "collapsed": false,
     "input": [
      "#panels.panels['tz'].axis((3*3600, 3*3600 + 0.5*60, 0, 20))\n",
      "panels.panels['tz'].axis((10805.7, 10806.3, 0, 15))\n",
      "panels.panels['xy'].axis((-105, -85, -10, 10))"
     ],
     "language": "python",
     "metadata": {},
     "outputs": [
      {
       "output_type": "pyout",
       "prompt_number": 4,
       "text": [
        "(-105, -85, -10, 10)"
       ]
      }
     ],
     "prompt_number": 4
    },
    {
     "cell_type": "markdown",
     "metadata": {},
     "source": [
      "After adjusting the lower bound on station count below, it's necessary to trigger a reflow of the data down the pipeline. You can do this by dragging the plot to adjust the view bounds. Instead, you can also hook into the event machinery to notify that something changed."
     ]
    },
    {
     "cell_type": "code",
     "collapsed": false,
     "input": [
      "lma_ctrl.bounds.stations=(6,99)\n",
      "from stormdrain.pubsub import get_exchange\n",
      "get_exchange('SD_bounds_updated').send(lma_ctrl.bounds)"
     ],
     "language": "python",
     "metadata": {},
     "outputs": [],
     "prompt_number": 5
    },
    {
     "cell_type": "code",
     "collapsed": false,
     "input": [
      "charge_lasso.charge=1\n",
      "panels.lasso()"
     ],
     "language": "python",
     "metadata": {},
     "outputs": [],
     "prompt_number": 6
    },
    {
     "cell_type": "code",
     "collapsed": false,
     "input": [
      "chg = d.data['charge']\n",
      "wh = np.where(chg > 0)\n",
      "print d.data[wh]['time']"
     ],
     "language": "python",
     "metadata": {},
     "outputs": [
      {
       "output_type": "stream",
       "stream": "stdout",
       "text": [
        "[ 10806.10035636  10806.10063067  10806.10277491  10806.10306523\n",
        "  10806.10321941  10806.10018996  10806.10330898  10806.10416721\n",
        "  10806.10527408  10806.10546547  10806.10560878  10806.10565527\n",
        "  10806.10573952  10806.10732892  10806.10341374  10806.09970257\n",
        "  10806.09058284  10806.09103099  10806.09168408  10806.09207803\n",
        "  10806.09255642  10806.09357128  10806.09574118  10806.09600704\n",
        "  10806.09636684  10806.09695174  10806.09698238  10806.09793161\n",
        "  10806.09814566  10806.09852938  10806.09869882  10806.0987601\n",
        "  10806.10737342  10806.10783145  10806.1093449   10806.1095965\n",
        "  10806.08729165  10806.13756211  10806.1098075   10806.11132156\n",
        "  10806.11148208  10806.11164509  10806.11224211  10806.11340263\n",
        "  10806.11350041  10806.11567777  10806.11576166  10806.11902324\n",
        "  10806.11947878  10806.12378349  10806.12622854  10806.12905067\n",
        "  10806.13007945  10806.13586449  10806.08717767  10806.07683276\n",
        "  10806.0775876   10806.07901367  10806.08009968  10806.08210898\n",
        "  10806.08428481  10806.08467158  10806.08473987  10806.08567613\n",
        "  10806.08053042]\n"
       ]
      }
     ],
     "prompt_number": 9
    },
    {
     "cell_type": "code",
     "collapsed": false,
     "input": [],
     "language": "python",
     "metadata": {},
     "outputs": [],
     "prompt_number": 15
    },
    {
     "cell_type": "code",
     "collapsed": false,
     "input": [],
     "language": "python",
     "metadata": {},
     "outputs": [],
     "prompt_number": 15
    },
    {
     "cell_type": "code",
     "collapsed": false,
     "input": [],
     "language": "python",
     "metadata": {},
     "outputs": [],
     "prompt_number": 15
    },
    {
     "cell_type": "code",
     "collapsed": false,
     "input": [],
     "language": "python",
     "metadata": {},
     "outputs": []
    }
   ],
   "metadata": {}
  }
 ]
}