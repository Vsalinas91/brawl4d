{
 "metadata": {
  "name": "LMAh5"
 },
 "nbformat": 3,
 "nbformat_minor": 0,
 "worksheets": [
  {
   "cells": [
    {
     "cell_type": "code",
     "collapsed": false,
     "input": [
      "%pylab\n",
      "from brawl4d.brawl4d import B4D_startup, get_demo_dataset, plot_demo_dataset"
     ],
     "language": "python",
     "metadata": {},
     "outputs": [
      {
       "output_type": "stream",
       "stream": "stdout",
       "text": [
        "\n",
        "Welcome to pylab, a matplotlib-based Python environment [backend: Qt4Agg].\n",
        "For more information, type 'help(pylab)'.\n"
       ]
      },
      {
       "output_type": "stream",
       "stream": "stderr",
       "text": [
        "/Library/Frameworks/Python.framework/Versions/7.2/lib/python2.7/site-packages/matplotlib/__init__.py:908: UserWarning:  This call to matplotlib.use() has no effect\n",
        "because the the backend has already been chosen;\n",
        "matplotlib.use() must be called *before* pylab, matplotlib.pyplot,\n",
        "or matplotlib.backends is imported for the first time.\n",
        "\n",
        "  if warn: warnings.warn(_use_error_msg)\n"
       ]
      }
     ],
     "prompt_number": 1
    },
    {
     "cell_type": "code",
     "collapsed": false,
     "input": [
      "from datetime import datetime\n",
      "panels = B4D_startup(basedate=datetime(2013,6,6))"
     ],
     "language": "python",
     "metadata": {},
     "outputs": [],
     "prompt_number": 2
    },
    {
     "cell_type": "code",
     "collapsed": false,
     "input": [
      "from brawl4d.LMA.controller import LMAController\n",
      "\n",
      "lma_ctrl = LMAController()\n",
      "d = lma_ctrl.load_hdf5('/data/20130606/LMA/LYLOUT_130606_030000_0600.dat.flash.h5')\n",
      "post_filter_brancher, post_transform_branch_to_scatter_artists, charge_lasso = lma_ctrl.pipeline_for_dataset(d, panels)"
     ],
     "language": "python",
     "metadata": {},
     "outputs": [],
     "prompt_number": 3
    },
    {
     "cell_type": "code",
     "collapsed": false,
     "input": [
      "#panels.panels['tz'].axis((3*3600, 3*3600 + 0.5*60, 0, 20))\n",
      "panels.panels['tz'].axis((10805.7, 10806.3, 0, 15))\n",
      "panels.panels['xy'].axis((-105, -85, -10, 10))"
     ],
     "language": "python",
     "metadata": {},
     "outputs": [
      {
       "output_type": "pyout",
       "prompt_number": 4,
       "text": [
        "(-105, -85, -10, 10)"
       ]
      }
     ],
     "prompt_number": 4
    },
    {
     "cell_type": "markdown",
     "metadata": {},
     "source": [
      "After adjusting the lower bound on station count below, drag the plot, and the change to the LMA quality filtering will be reflected in the plot. It would be better to trigger the redraw programmatically, of course"
     ]
    },
    {
     "cell_type": "code",
     "collapsed": false,
     "input": [
      "lma_ctrl.bounds.stations=(6,99)\n"
     ],
     "language": "python",
     "metadata": {},
     "outputs": [],
     "prompt_number": 7
    },
    {
     "cell_type": "code",
     "collapsed": false,
     "input": [
      "charge_lasso.charge=1\n",
      "panels.lasso()\n",
      "panels.figure.canvas.draw()"
     ],
     "language": "python",
     "metadata": {},
     "outputs": [],
     "prompt_number": 7
    },
    {
     "cell_type": "code",
     "collapsed": false,
     "input": [
      "print()\n"
     ],
     "language": "python",
     "metadata": {},
     "outputs": [
      {
       "output_type": "stream",
       "stream": "stdout",
       "text": [
        "set([<brawl4d.LMA.controller.LassoChargeController object at 0x20c45230>])\n",
        "('time', 'z') [(10806.146893546191, 7.4585339753879225), (10806.172435807743, 5.6193151417870553), (10806.167114503252, 3.4456928838951342), (10806.146893546191, 7.4585339753879225)]\n",
        "10806.16385, 1\n",
        "()"
       ]
      },
      {
       "output_type": "stream",
       "stream": "stdout",
       "text": [
        "\n"
       ]
      }
     ],
     "prompt_number": 8
    },
    {
     "cell_type": "code",
     "collapsed": false,
     "input": [],
     "language": "python",
     "metadata": {},
     "outputs": []
    }
   ],
   "metadata": {}
  }
 ]
}