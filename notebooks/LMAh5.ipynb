{
 "metadata": {
  "name": "LMAh5"
 },
 "nbformat": 3,
 "nbformat_minor": 0,
 "worksheets": [
  {
   "cells": [
    {
     "cell_type": "code",
     "collapsed": true,
     "input": [
      "%pylab\n",
      "from brawl4d.brawl4d import B4D_startup"
     ],
     "language": "python",
     "metadata": {},
     "outputs": [
      {
       "output_type": "stream",
       "stream": "stdout",
       "text": [
        "\n",
        "Welcome to pylab, a matplotlib-based Python environment [backend: Qt4Agg].\n",
        "For more information, type 'help(pylab)'.\n"
       ]
      },
      {
       "output_type": "stream",
       "stream": "stderr",
       "text": [
        "/Library/Frameworks/Python.framework/Versions/7.2/lib/python2.7/site-packages/matplotlib/__init__.py:908: UserWarning:  This call to matplotlib.use() has no effect\n",
        "because the the backend has already been chosen;\n",
        "matplotlib.use() must be called *before* pylab, matplotlib.pyplot,\n",
        "or matplotlib.backends is imported for the first time.\n",
        "\n",
        "  if warn: warnings.warn(_use_error_msg)\n"
       ]
      }
     ],
     "prompt_number": 1
    },
    {
     "cell_type": "code",
     "collapsed": false,
     "input": [
      "from datetime import datetime\n",
      "panels = B4D_startup(basedate=datetime(2013,6,6))"
     ],
     "language": "python",
     "metadata": {},
     "outputs": [],
     "prompt_number": 2
    },
    {
     "cell_type": "code",
     "collapsed": false,
     "input": [
      "from brawl4d.LMA.controller import LMAController\n",
      "\n",
      "lma_ctrl = LMAController()\n",
      "d, post_filter_brancher, scatter_ctrl, charge_lasso = lma_ctrl.load_hdf5_to_panels(panels, '/data/20130606/LMA/LYLOUT_130606_030000_0600.dat.flash.bk.h5')"
     ],
     "language": "python",
     "metadata": {},
     "outputs": [],
     "prompt_number": 3
    },
    {
     "cell_type": "code",
     "collapsed": false,
     "input": [
      "#panels.panels['tz'].axis((3*3600, 3*3600 + 0.5*60, 0, 20))\n",
      "panels.panels['tz'].axis((10805.7, 10806.3, 0, 15))\n",
      "panels.panels['xy'].axis((-105, -85, -10, 10))"
     ],
     "language": "python",
     "metadata": {},
     "outputs": [
      {
       "output_type": "stream",
       "stream": "stdout",
       "text": [
        "limits: 10805.7, 10806.3\n",
        "limits: 10805.7, 10806.3"
       ]
      },
      {
       "output_type": "stream",
       "stream": "stdout",
       "text": [
        "\n",
        "limits: 10805.7, 10806.3\n",
        "limits: 10805.7, 10806.3\n",
        "limits: 10805.7, 10806.3\n",
        "limits: 10805.7, 10806.3"
       ]
      },
      {
       "output_type": "stream",
       "stream": "stdout",
       "text": [
        "\n",
        "limits: 10805.7, 10806.3\n",
        "limits: 10805.7, 10806.3\n"
       ]
      },
      {
       "output_type": "pyout",
       "prompt_number": 4,
       "text": [
        "(-105, -85, -10, 10)"
       ]
      }
     ],
     "prompt_number": 4
    },
    {
     "cell_type": "markdown",
     "metadata": {},
     "source": [
      "After adjusting the lower bound on station count below, it's necessary to trigger a reflow of the data down the pipeline. You can do this by dragging the plot to adjust the view bounds. Instead, you can also hook into the event machinery to notify that something changed."
     ]
    },
    {
     "cell_type": "code",
     "collapsed": false,
     "input": [
      "lma_ctrl.bounds.stations=(6,99)\n",
      "from stormdrain.pubsub import get_exchange\n",
      "get_exchange('SD_bounds_updated').send(lma_ctrl.bounds)"
     ],
     "language": "python",
     "metadata": {},
     "outputs": [
      {
       "output_type": "stream",
       "stream": "stdout",
       "text": [
        "limits: None, None\n",
        "limits: None, None\n",
        "limits: None, None"
       ]
      },
      {
       "output_type": "stream",
       "stream": "stdout",
       "text": [
        "\n",
        "limits: None, None\n"
       ]
      }
     ],
     "prompt_number": 5
    },
    {
     "cell_type": "code",
     "collapsed": false,
     "input": [
      "charge_lasso.charge=-1\n",
      "panels.lasso()\n"
     ],
     "language": "python",
     "metadata": {},
     "outputs": [],
     "prompt_number": 8
    },
    {
     "cell_type": "code",
     "collapsed": false,
     "input": [
      "chg = d.data['charge']\n",
      "wh = np.where(chg > 0)\n",
      "print d.data[wh]['time']"
     ],
     "language": "python",
     "metadata": {},
     "outputs": [
      {
       "output_type": "stream",
       "stream": "stdout",
       "text": [
        "[ 10805.93215797  10806.02808732  10806.03125458  10806.03154387\n",
        "  10806.02802381  10806.02626833  10806.01181749  10806.01325117\n",
        "  10806.02293201  10806.02390299  10805.91438668  10805.9148208\n",
        "  10805.91492005  10805.97290485  10805.91516207  10805.9142367\n",
        "  10805.91286845  10805.94910203  10805.94822611  10805.94711127\n",
        "  10805.9458203   10805.94555017  10805.91037354  10805.91114943\n",
        "  10805.91138489  10805.99273142  10805.99394959  10805.99443437\n",
        "  10805.99673448  10805.98889177  10806.00059668  10805.99752533\n",
        "  10805.98870497  10805.97238815  10805.97350988  10805.96861204\n",
        "  10805.96586561  10805.96158797  10805.96143     10805.95784797\n",
        "  10805.97622374  10805.97904491  10805.95709668  10805.98715861\n",
        "  10805.95617252  10806.00124316  10806.00150719  10805.95039603\n",
        "  10806.00980618  10806.01150051  10806.00297038  10806.00438956\n",
        "  10806.00481819  10806.00565804  10806.00758911  10806.00763239\n",
        "  10806.0090358   10805.9526621   10806.00914832  10805.91533174\n",
        "  10805.91936255  10805.91594507  10805.91630432  10805.92060359\n",
        "  10805.9204685   10805.92671691  10805.92637986  10805.94252771\n",
        "  10805.91590135  10805.93901733  10805.93889009  10805.93684221\n",
        "  10805.93676358  10805.93669601  10805.93579948  10805.93560968\n",
        "  10805.93547927  10805.93287609  10805.92175055  10805.92144506\n",
        "  10805.97333809]\n"
       ]
      }
     ],
     "prompt_number": 9
    },
    {
     "cell_type": "code",
     "collapsed": false,
     "input": [
      "# redraw\n",
      "def redraw():\n",
      "    from stormdrain.pubsub import get_exchange\n",
      "    get_exchange('SD_bounds_updated').send(panels.bounds)"
     ],
     "language": "python",
     "metadata": {},
     "outputs": [],
     "prompt_number": 15
    },
    {
     "cell_type": "code",
     "collapsed": false,
     "input": [
      "scatter_ctrl.color_field = 'x'\n",
      "redraw()"
     ],
     "language": "python",
     "metadata": {},
     "outputs": [
      {
       "output_type": "stream",
       "stream": "stdout",
       "text": [
        "limits: -104.166651467, -84.1666514665\n",
        "limits: -104.166651467, -84.1666514665"
       ]
      },
      {
       "output_type": "stream",
       "stream": "stdout",
       "text": [
        "\n",
        "limits: -104.166651467, -84.1666514665\n",
        "limits: -104.166651467, -84.1666514665\n"
       ]
      }
     ],
     "prompt_number": 19
    },
    {
     "cell_type": "code",
     "collapsed": false,
     "input": [],
     "language": "python",
     "metadata": {},
     "outputs": [],
     "prompt_number": 15
    },
    {
     "cell_type": "code",
     "collapsed": false,
     "input": [],
     "language": "python",
     "metadata": {},
     "outputs": []
    }
   ],
   "metadata": {}
  }
 ]
}