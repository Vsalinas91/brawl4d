{
 "metadata": {
  "name": "DC3"
 },
 "nbformat": 3,
 "nbformat_minor": 0,
 "worksheets": [
  {
   "cells": [
    {
     "cell_type": "markdown",
     "metadata": {},
     "source": [
      "Reproducible LMA research with the IPython notebook and brawl4d\n",
      "===============================================================\n",
      "\n",
      "This notebook demonstrates how to download and display data from the <a href=\"http://www.eol.ucar.edu/projects/dc3/\">NSF-sponsored Deep Convective Clouds and Chemistry campaign</a>.\n",
      "\n",
      "To download data, go to the <a href=\"http://data.eol.ucar.edu/master_list/?project=DC3\">DC3 data archive</a> and choose one of the LMA datasets. This example will assume use of the LMA VHF source and flash data on June 4, 2012 from 2050-2100 UTC from West Texas, as retrieved using the <a href=\"http://data.eol.ucar.edu/cgi-bin/codiac/fgr_form/id=353.088\">DC3 data download form</a>.\n",
      "\n",
      "**Note: the hour of data below is 960 MB, so caveat downloader**. Try just the 2050--2100 interval.\n",
      "\n",
      "Running the code below is some basic boilerplate."
     ]
    },
    {
     "cell_type": "code",
     "collapsed": true,
     "input": [
      "%pylab\n",
      "from brawl4d.brawl4d import B4D_startup\n",
      "\n",
      "# this function forces a manual redraw / re-flow of the data to the plot.\n",
      "def redraw():\n",
      "    from stormdrain.pubsub import get_exchange\n",
      "    get_exchange('SD_bounds_updated').send(panels.bounds)"
     ],
     "language": "python",
     "metadata": {},
     "outputs": [
      {
       "output_type": "stream",
       "stream": "stdout",
       "text": [
        "\n",
        "Welcome to pylab, a matplotlib-based Python environment [backend: Qt4Agg].\n",
        "For more information, type 'help(pylab)'.\n"
       ]
      },
      {
       "output_type": "stream",
       "stream": "stderr",
       "text": [
        "/Library/Frameworks/Python.framework/Versions/7.2/lib/python2.7/site-packages/matplotlib/__init__.py:908: UserWarning:  This call to matplotlib.use() has no effect\n",
        "because the the backend has already been chosen;\n",
        "matplotlib.use() must be called *before* pylab, matplotlib.pyplot,\n",
        "or matplotlib.backends is imported for the first time.\n",
        "\n",
        "  if warn: warnings.warn(_use_error_msg)\n"
       ]
      }
     ],
     "prompt_number": 1
    },
    {
     "cell_type": "markdown",
     "metadata": {},
     "source": [
      "In the cell below, note that the basedate has been set to match the dataset we downloaded above.\n",
      "\n",
      "If you are not using data from the WTLMA, then you'll also need to pass <code>ctr_lon=value</code> and <code>ctr_lat=value</code> to B4D_startup."
     ]
    },
    {
     "cell_type": "code",
     "collapsed": false,
     "input": [
      "from datetime import datetime\n",
      "panels = B4D_startup(basedate=datetime(2012,6,4), ctr_lat=33.5, ctr_lon=-101.5)"
     ],
     "language": "python",
     "metadata": {},
     "outputs": [],
     "prompt_number": 2
    },
    {
     "cell_type": "markdown",
     "metadata": {},
     "source": [
      "Below, set a valid path to <code>lma_file</code>. The IPython notebook will try to tab-complete paths."
     ]
    },
    {
     "cell_type": "code",
     "collapsed": false,
     "input": [
      "from brawl4d.LMA.controller import LMAController\n",
      "lma_file = '/data/20120604/LYLOUT_120604_205000_0600.dat.flash.h5'\n",
      "lma_ctrl = LMAController()\n",
      "d, post_filter_brancher, scatter_ctrl, charge_lasso = lma_ctrl.load_hdf5_to_panels(panels, lma_file)"
     ],
     "language": "python",
     "metadata": {},
     "outputs": [
      {
       "output_type": "stream",
       "stream": "stdout",
       "text": [
        "found flash data\n"
       ]
      }
     ],
     "prompt_number": 3
    },
    {
     "cell_type": "markdown",
     "metadata": {},
     "source": [
      "Zoom in on a few cells of interest. The smaller, western and northern cells here are anomalously electrified, while the larger cluster is normally electrified."
     ]
    },
    {
     "cell_type": "code",
     "collapsed": false,
     "input": [
      "panels.panels['tz'].axis((20*3600 + 50*60, 20*3600 + 52*60, 1, 15))\n",
      "panels.panels['xy'].axis((-40, 0, 50, 90))"
     ],
     "language": "python",
     "metadata": {},
     "outputs": [
      {
       "output_type": "pyout",
       "prompt_number": 4,
       "text": [
        "(-40, 0, 50, 90)"
       ]
      }
     ],
     "prompt_number": 4
    },
    {
     "cell_type": "markdown",
     "metadata": {},
     "source": [
      "After adjusting the lower bound on station count below, it's necessary to trigger a reflow of the data down the pipeline. You can do this by dragging the plot to adjust the view bounds. Or, simply call the redraw() function we defined above."
     ]
    },
    {
     "cell_type": "code",
     "collapsed": false,
     "input": [
      "lma_ctrl.bounds.stations=(7,99)\n",
      "redraw()"
     ],
     "language": "python",
     "metadata": {},
     "outputs": [],
     "prompt_number": 5
    },
    {
     "cell_type": "markdown",
     "metadata": {},
     "source": [
      "Charge analysis\n",
      "---------------\n",
      "It's possible to use a lasso to classify charge regions inferred from LMA data. Set the polarity and run the code below to start the lasso. On the plot, left click to draw the lasso, and then right click to close the lasso and assign the charge."
     ]
    },
    {
     "cell_type": "code",
     "collapsed": false,
     "input": [
      "charge_lasso.charge=1\n",
      "panels.lasso()"
     ],
     "language": "python",
     "metadata": {},
     "outputs": [],
     "prompt_number": 8
    },
    {
     "cell_type": "markdown",
     "metadata": {},
     "source": [
      "If you're using an HDF5-format LMA data file, the analyzed charge is automatically written to the HDF5 file. The results of the operation can be queried by looking for the points that have had their charge set to the value defined above."
     ]
    },
    {
     "cell_type": "code",
     "collapsed": false,
     "input": [
      "chg = d.data['charge']\n",
      "wh = np.where(chg > 0)\n",
      "print d.data[wh]['time']"
     ],
     "language": "python",
     "metadata": {},
     "outputs": [
      {
       "output_type": "stream",
       "stream": "stdout",
       "text": [
        "[]\n"
       ]
      }
     ],
     "prompt_number": 16
    },
    {
     "cell_type": "markdown",
     "metadata": {},
     "source": [
      "Color by...\n",
      "-----------\n",
      "In addition to coloring the scatter plots by time, it's possible to use other values in the LMA data array."
     ]
    },
    {
     "cell_type": "code",
     "collapsed": false,
     "input": [
      "scatter_ctrl.color_field = 'chi2'\n",
      "redraw()"
     ],
     "language": "python",
     "metadata": {},
     "outputs": [],
     "prompt_number": 21
    },
    {
     "cell_type": "code",
     "collapsed": false,
     "input": [
      "scatter_ctrl.color_field = 'time'\n",
      "redraw()"
     ],
     "language": "python",
     "metadata": {},
     "outputs": [],
     "prompt_number": 7
    },
    {
     "cell_type": "code",
     "collapsed": false,
     "input": [
      "# A reference to the current data in the view is cached by the charge lasso.\n",
      "current_data = charge_lasso.cache_segment.cache[-1]\n",
      "# Manually set the color limits on the flash_id variable\n",
      "scatter_ctrl.default_color_bounds.flash_id =(current_data['flash_id'].min(), current_data['flash_id'].max())\n",
      "# Color by flash ID.\n",
      "scatter_ctrl.color_field = 'flash_id'\n",
      "\n",
      "redraw()"
     ],
     "language": "python",
     "metadata": {},
     "outputs": [],
     "prompt_number": 22
    },
    {
     "cell_type": "markdown",
     "metadata": {},
     "source": [
      "Animation\n",
      "---------\n",
      "Animate the current view"
     ]
    },
    {
     "cell_type": "code",
     "collapsed": false,
     "input": [
      "n_seconds = 5\n",
      "anim=scatter_ctrl.animate(n_seconds, repeat=False)"
     ],
     "language": "python",
     "metadata": {},
     "outputs": [
      {
       "output_type": "stream",
       "stream": "stdout",
       "text": [
        "\n",
        "78 of 134 flashes have > 10 points. Their average area =  30.5 km^2"
       ]
      },
      {
       "output_type": "stream",
       "stream": "stdout",
       "text": [
        "\n"
       ]
      }
     ],
     "prompt_number": 18
    },
    {
     "cell_type": "code",
     "collapsed": false,
     "input": [
      "anim.repeat = False # stops the animation if repeat=True above"
     ],
     "language": "python",
     "metadata": {},
     "outputs": [],
     "prompt_number": 9
    },
    {
     "cell_type": "markdown",
     "metadata": {},
     "source": [
      "Flash statistics\n",
      "----------------\n",
      "\n",
      "If the LMA controller found flash data, then it's possible to get a live update of flashes in the current view. <code>current_events_flashes</code> is an analysis pipeline branchpoint, which will send events and flashes to another analysis pipeline segment that can be specified with <code>current_events_flashes.targets.add(target)</code>. Behind the scenes, it's hooked up to an segment that receives the events and flashes, and prints the average flash area of all flashes that have more than a threshold number of points.\n",
      "\n",
      "Change the view a few times and you'll see updated flash stats below."
     ]
    },
    {
     "cell_type": "code",
     "collapsed": false,
     "input": [
      "current_events_flashes = lma_ctrl.flash_stats_for_dataset(d, scatter_ctrl.branchpoint)"
     ],
     "language": "python",
     "metadata": {},
     "outputs": [
      {
       "output_type": "stream",
       "stream": "stdout",
       "text": [
        "1 of 3 flashes have > 10 points. Their average area =  26.4 km^2\n",
        "1 of 1 flashes have > 10 points. Their average area =  26.4 km^2"
       ]
      },
      {
       "output_type": "stream",
       "stream": "stdout",
       "text": [
        "\n",
        "1 of 1 flashes have > 10 points. Their average area =  26.4 km^2"
       ]
      },
      {
       "output_type": "stream",
       "stream": "stdout",
       "text": [
        "\n",
        "1 of 1 flashes have > 10 points. Their average area =  26.4 km^2"
       ]
      },
      {
       "output_type": "stream",
       "stream": "stdout",
       "text": [
        "\n",
        "1 of 1 flashes have > 10 points. Their average area =  26.4 km^2"
       ]
      }
     ],
     "prompt_number": 6
    },
    {
     "cell_type": "code",
     "collapsed": false,
     "input": [],
     "language": "python",
     "metadata": {},
     "outputs": [],
     "prompt_number": 6
    },
    {
     "cell_type": "markdown",
     "metadata": {},
     "source": [
      "Flash volume for current sources\n",
      "--------------------------------\n",
      "\n"
     ]
    },
    {
     "cell_type": "code",
     "collapsed": false,
     "input": [
      "from scipy.spatial import Delaunay\n",
      "from scipy.misc import factorial\n",
      "\n",
      "from stormdrain.pipeline import coroutine\n",
      "class LMAEventStats(object):\n",
      "    \n",
      "    def __init__(self, GeoSys):\n",
      "        \"\"\" GeoSys is an instance of\n",
      "            stormdrain.support.coords.systems.GeographicSystem instance\n",
      "        \"\"\"\n",
      "        self.GeoSys = GeoSys\n",
      "    \n",
      "    def ECEF_coords(self, lon, lat, alt):\n",
      "        x,y,z = self.GeoSys.toECEF(lon, lat, alt)\n",
      "        return x,y,z\n",
      "    \n",
      "    \n",
      "    def _hull_volume(self):\n",
      "        tri = Delaunay(self.xyzt[:,0:3])\n",
      "        vertices = tri.points[tri.vertices]\n",
      "        \n",
      "        # This is the volume formula in \n",
      "        # https://github.com/scipy/scipy/blob/master/scipy/spatial/tests/test_qhull.py#L106\n",
      "        # Except the formula needs to be divided by ndim! to get the volume, cf., \n",
      "        # http://en.wikipedia.org/wiki/Simplex#Geometric_properties\n",
      "        # Credit Pauli Virtanen, Oct 14, 2012, scipy-user list\n",
      "        q = vertices[:,:-1,:] - vertices[:,-1,None,:]\n",
      "        simplex_volumes = (1.0 / factorial(q.shape[-1])) * np.fromiter(\n",
      "                (np.linalg.det(q[k,:,:]) for k in range(tri.nsimplex)) , dtype=float)\n",
      "        self.tri = tri\n",
      "        \n",
      "        # The simplex volumes have negative values since they are oriented \n",
      "        # (think surface normal direction for a triangle\n",
      "        self.volume=np.sum(np.abs(simplex_volumes))\n",
      "        \n",
      "    \n",
      "    @coroutine\n",
      "    def events_flashes_receiver(self):\n",
      "        while True:\n",
      "            evs, fls = (yield)\n",
      "            x,y,z = self.ECEF_coords(evs['lon'], evs['lat'], evs['alt'])\n",
      "            t = evs['time']\n",
      "            self.xyzt = np.vstack((x,y,z,t)).T\n",
      "            self._hull_volume()\n",
      "            print \"Volume of hull of points in current view is {0:5.1f}\".format(\n",
      "                        self.volume / 1.0e9) # (1000 m)^3\n",
      "    \n",
      "    "
     ],
     "language": "python",
     "metadata": {},
     "outputs": [
      {
       "output_type": "stream",
       "stream": "stdout",
       "text": [
        "\n"
       ]
      }
     ],
     "prompt_number": 7
    },
    {
     "cell_type": "code",
     "collapsed": false,
     "input": [
      "stats = LMAEventStats(panels.cs.geoProj)\n",
      "stat_maker = stats.events_flashes_receiver()"
     ],
     "language": "python",
     "metadata": {},
     "outputs": [],
     "prompt_number": 8
    },
    {
     "cell_type": "code",
     "collapsed": false,
     "input": [
      "current_events_flashes.targets.add(stat_maker)"
     ],
     "language": "python",
     "metadata": {},
     "outputs": [],
     "prompt_number": 9
    },
    {
     "cell_type": "code",
     "collapsed": false,
     "input": [
      "print current_events_flashes.targets"
     ],
     "language": "python",
     "metadata": {},
     "outputs": [
      {
       "output_type": "stream",
       "stream": "stdout",
       "text": [
        "set([<generator object flash_stat_printer at 0x21140c88>, <generator object events_flashes_receiver at 0x200f7cd8>])\n"
       ]
      },
      {
       "output_type": "stream",
       "stream": "stdout",
       "text": [
        "1 of 1 flashes have > 10 points. Their average area =  26.4 km^2\n",
        "Volume of hull of points in current view is  24.5"
       ]
      },
      {
       "output_type": "stream",
       "stream": "stdout",
       "text": [
        "\n",
        "1 of 1 flashes have > 10 points. Their average area =  26.4 km^2"
       ]
      },
      {
       "output_type": "stream",
       "stream": "stdout",
       "text": [
        "\n",
        "Volume of hull of points in current view is  24.5"
       ]
      },
      {
       "output_type": "stream",
       "stream": "stdout",
       "text": [
        "\n",
        "1 of 1 flashes have > 10 points. Their average area =  26.4 km^2"
       ]
      },
      {
       "output_type": "stream",
       "stream": "stdout",
       "text": [
        "\n",
        "Volume of hull of points in current view is  24.5"
       ]
      },
      {
       "output_type": "stream",
       "stream": "stdout",
       "text": [
        "\n",
        "1 of 1 flashes have > 10 points. Their average area =  26.4 km^2"
       ]
      },
      {
       "output_type": "stream",
       "stream": "stdout",
       "text": [
        "\n",
        "Volume of hull of points in current view is  24.5"
       ]
      },
      {
       "output_type": "stream",
       "stream": "stdout",
       "text": [
        "\n",
        "1 of 1 flashes have > 10 points. Their average area =  26.4 km^2"
       ]
      },
      {
       "output_type": "stream",
       "stream": "stdout",
       "text": [
        "\n",
        "Volume of hull of points in current view is  24.5"
       ]
      },
      {
       "output_type": "stream",
       "stream": "stdout",
       "text": [
        "\n",
        "1 of 1 flashes have > 10 points. Their average area =  26.4 km^2"
       ]
      },
      {
       "output_type": "stream",
       "stream": "stdout",
       "text": [
        "\n",
        "Volume of hull of points in current view is  24.5"
       ]
      },
      {
       "output_type": "stream",
       "stream": "stdout",
       "text": [
        "\n",
        "1 of 1 flashes have > 10 points. Their average area =  26.4 km^2"
       ]
      },
      {
       "output_type": "stream",
       "stream": "stdout",
       "text": [
        "\n",
        "Volume of hull of points in current view is  24.5"
       ]
      },
      {
       "output_type": "stream",
       "stream": "stdout",
       "text": [
        "\n",
        "1 of 1 flashes have > 10 points. Their average area =  26.4 km^2"
       ]
      },
      {
       "output_type": "stream",
       "stream": "stdout",
       "text": [
        "\n",
        "Volume of hull of points in current view is  24.5"
       ]
      },
      {
       "output_type": "stream",
       "stream": "stdout",
       "text": [
        "\n",
        "1 of 1 flashes have > 10 points. Their average area =  26.4 km^2"
       ]
      },
      {
       "output_type": "stream",
       "stream": "stdout",
       "text": [
        "\n",
        "Volume of hull of points in current view is  24.5"
       ]
      },
      {
       "output_type": "stream",
       "stream": "stdout",
       "text": [
        "\n",
        "1 of 1 flashes have > 10 points. Their average area =  26.4 km^2"
       ]
      },
      {
       "output_type": "stream",
       "stream": "stdout",
       "text": [
        "\n",
        "Volume of hull of points in current view is  24.5"
       ]
      },
      {
       "output_type": "stream",
       "stream": "stdout",
       "text": [
        "\n",
        "1 of 1 flashes have > 10 points. Their average area =  26.4 km^2"
       ]
      },
      {
       "output_type": "stream",
       "stream": "stdout",
       "text": [
        "\n",
        "Volume of hull of points in current view is  24.5"
       ]
      },
      {
       "output_type": "stream",
       "stream": "stdout",
       "text": [
        "\n",
        "1 of 1 flashes have > 10 points. Their average area =  26.4 km^2"
       ]
      },
      {
       "output_type": "stream",
       "stream": "stdout",
       "text": [
        "\n",
        "Volume of hull of points in current view is  24.5"
       ]
      },
      {
       "output_type": "stream",
       "stream": "stdout",
       "text": [
        "\n",
        "1 of 1 flashes have > 10 points. Their average area =  26.4 km^2"
       ]
      },
      {
       "output_type": "stream",
       "stream": "stdout",
       "text": [
        "\n",
        "Volume of hull of points in current view is  24.5"
       ]
      },
      {
       "output_type": "stream",
       "stream": "stdout",
       "text": [
        "\n",
        "1 of 1 flashes have > 10 points. Their average area =  26.4 km^2"
       ]
      },
      {
       "output_type": "stream",
       "stream": "stdout",
       "text": [
        "\n",
        "Volume of hull of points in current view is  24.5"
       ]
      },
      {
       "output_type": "stream",
       "stream": "stdout",
       "text": [
        "\n",
        "1 of 1 flashes have > 10 points. Their average area =  26.4 km^2"
       ]
      },
      {
       "output_type": "stream",
       "stream": "stdout",
       "text": [
        "\n",
        "Volume of hull of points in current view is  24.5"
       ]
      },
      {
       "output_type": "stream",
       "stream": "stdout",
       "text": [
        "\n",
        "1 of 1 flashes have > 10 points. Their average area =  26.4 km^2"
       ]
      },
      {
       "output_type": "stream",
       "stream": "stdout",
       "text": [
        "\n",
        "Volume of hull of points in current view is  24.5"
       ]
      },
      {
       "output_type": "stream",
       "stream": "stdout",
       "text": [
        "\n",
        "1 of 1 flashes have > 10 points. Their average area =  26.4 km^2"
       ]
      },
      {
       "output_type": "stream",
       "stream": "stdout",
       "text": [
        "\n",
        "Volume of hull of points in current view is  24.5"
       ]
      },
      {
       "output_type": "stream",
       "stream": "stdout",
       "text": [
        "\n",
        "1 of 1 flashes have > 10 points. Their average area =  26.4 km^2"
       ]
      },
      {
       "output_type": "stream",
       "stream": "stdout",
       "text": [
        "\n",
        "Volume of hull of points in current view is  24.5"
       ]
      },
      {
       "output_type": "stream",
       "stream": "stdout",
       "text": [
        "\n",
        "1 of 1 flashes have > 10 points. Their average area =  26.4 km^2"
       ]
      },
      {
       "output_type": "stream",
       "stream": "stdout",
       "text": [
        "\n",
        "Volume of hull of points in current view is  24.5"
       ]
      },
      {
       "output_type": "stream",
       "stream": "stdout",
       "text": [
        "\n",
        "1 of 3 flashes have > 10 points. Their average area =  26.4 km^2"
       ]
      },
      {
       "output_type": "stream",
       "stream": "stdout",
       "text": [
        "\n",
        "Volume of hull of points in current view is  26.3"
       ]
      },
      {
       "output_type": "stream",
       "stream": "stdout",
       "text": [
        "\n",
        "123 of 262 flashes have > 10 points. Their average area =  22.7 km^2"
       ]
      },
      {
       "output_type": "stream",
       "stream": "stdout",
       "text": [
        "\n",
        "Volume of hull of points in current view is 10875.9"
       ]
      },
      {
       "output_type": "stream",
       "stream": "stdout",
       "text": [
        "\n",
        "123 of 262 flashes have > 10 points. Their average area =  22.7 km^2"
       ]
      },
      {
       "output_type": "stream",
       "stream": "stdout",
       "text": [
        "\n",
        "Volume of hull of points in current view is 10875.9"
       ]
      },
      {
       "output_type": "stream",
       "stream": "stdout",
       "text": [
        "\n",
        "123 of 262 flashes have > 10 points. Their average area =  22.7 km^2"
       ]
      },
      {
       "output_type": "stream",
       "stream": "stdout",
       "text": [
        "\n",
        "Volume of hull of points in current view is 10875.9"
       ]
      },
      {
       "output_type": "stream",
       "stream": "stdout",
       "text": [
        "\n",
        "61 of 111 flashes have > 10 points. Their average area =  31.0 km^2"
       ]
      },
      {
       "output_type": "stream",
       "stream": "stdout",
       "text": [
        "\n",
        "Volume of hull of points in current view is 1284.7"
       ]
      },
      {
       "output_type": "stream",
       "stream": "stdout",
       "text": [
        "\n",
        "8 of 9 flashes have > 10 points. Their average area =  29.8 km^2"
       ]
      },
      {
       "output_type": "stream",
       "stream": "stdout",
       "text": [
        "\n",
        "Volume of hull of points in current view is 412.6"
       ]
      },
      {
       "output_type": "stream",
       "stream": "stdout",
       "text": [
        "\n",
        "9 of 10 flashes have > 10 points. Their average area =  27.6 km^2"
       ]
      },
      {
       "output_type": "stream",
       "stream": "stdout",
       "text": [
        "\n",
        "Volume of hull of points in current view is 703.1"
       ]
      },
      {
       "output_type": "stream",
       "stream": "stdout",
       "text": [
        "\n",
        "8 of 9 flashes have > 10 points. Their average area =  29.8 km^2"
       ]
      },
      {
       "output_type": "stream",
       "stream": "stdout",
       "text": [
        "\n",
        "Volume of hull of points in current view is 412.6"
       ]
      },
      {
       "output_type": "stream",
       "stream": "stdout",
       "text": [
        "\n",
        "8 of 9 flashes have > 10 points. Their average area =  29.8 km^2"
       ]
      },
      {
       "output_type": "stream",
       "stream": "stdout",
       "text": [
        "\n",
        "Volume of hull of points in current view is 412.6"
       ]
      },
      {
       "output_type": "stream",
       "stream": "stdout",
       "text": [
        "\n",
        "1 of 1 flashes have > 10 points. Their average area = 158.3 km^2"
       ]
      },
      {
       "output_type": "stream",
       "stream": "stdout",
       "text": [
        "\n",
        "Volume of hull of points in current view is 107.1"
       ]
      },
      {
       "output_type": "stream",
       "stream": "stdout",
       "text": [
        "\n",
        "1 of 1 flashes have > 10 points. Their average area = 158.3 km^2"
       ]
      },
      {
       "output_type": "stream",
       "stream": "stdout",
       "text": [
        "\n",
        "Volume of hull of points in current view is 107.1"
       ]
      },
      {
       "output_type": "stream",
       "stream": "stdout",
       "text": [
        "\n",
        "2 of 2 flashes have > 10 points. Their average area =  84.2 km^2"
       ]
      },
      {
       "output_type": "stream",
       "stream": "stdout",
       "text": [
        "\n",
        "Volume of hull of points in current view is 217.3"
       ]
      },
      {
       "output_type": "stream",
       "stream": "stdout",
       "text": [
        "\n",
        "2 of 2 flashes have > 10 points. Their average area =  84.2 km^2"
       ]
      },
      {
       "output_type": "stream",
       "stream": "stdout",
       "text": [
        "\n",
        "Volume of hull of points in current view is 217.3"
       ]
      },
      {
       "output_type": "stream",
       "stream": "stdout",
       "text": [
        "\n",
        "2 of 2 flashes have > 10 points. Their average area =  84.2 km^2"
       ]
      },
      {
       "output_type": "stream",
       "stream": "stdout",
       "text": [
        "\n",
        "Volume of hull of points in current view is 217.3"
       ]
      },
      {
       "output_type": "stream",
       "stream": "stdout",
       "text": [
        "\n",
        "2 of 2 flashes have > 10 points. Their average area =  84.2 km^2"
       ]
      },
      {
       "output_type": "stream",
       "stream": "stdout",
       "text": [
        "\n",
        "Volume of hull of points in current view is 217.3"
       ]
      },
      {
       "output_type": "stream",
       "stream": "stdout",
       "text": [
        "\n",
        "2 of 2 flashes have > 10 points. Their average area =  84.2 km^2"
       ]
      },
      {
       "output_type": "stream",
       "stream": "stdout",
       "text": [
        "\n",
        "Volume of hull of points in current view is 217.3"
       ]
      },
      {
       "output_type": "stream",
       "stream": "stdout",
       "text": [
        "\n",
        "1 of 1 flashes have > 10 points. Their average area = 158.3 km^2"
       ]
      },
      {
       "output_type": "stream",
       "stream": "stdout",
       "text": [
        "\n",
        "Volume of hull of points in current view is 107.1"
       ]
      },
      {
       "output_type": "stream",
       "stream": "stdout",
       "text": [
        "\n",
        "1 of 1 flashes have > 10 points. Their average area = 158.3 km^2"
       ]
      },
      {
       "output_type": "stream",
       "stream": "stdout",
       "text": [
        "\n",
        "Volume of hull of points in current view is 107.1"
       ]
      },
      {
       "output_type": "stream",
       "stream": "stdout",
       "text": [
        "\n",
        "1 of 1 flashes have > 10 points. Their average area = 158.3 km^2"
       ]
      },
      {
       "output_type": "stream",
       "stream": "stdout",
       "text": [
        "\n",
        "Volume of hull of points in current view is 107.1"
       ]
      },
      {
       "output_type": "stream",
       "stream": "stdout",
       "text": [
        "\n",
        "1 of 1 flashes have > 10 points. Their average area = 158.3 km^2"
       ]
      },
      {
       "output_type": "stream",
       "stream": "stdout",
       "text": [
        "\n",
        "Volume of hull of points in current view is 107.1"
       ]
      },
      {
       "output_type": "stream",
       "stream": "stdout",
       "text": [
        "\n",
        "1 of 1 flashes have > 10 points. Their average area = 158.3 km^2"
       ]
      },
      {
       "output_type": "stream",
       "stream": "stdout",
       "text": [
        "\n",
        "Volume of hull of points in current view is 107.1"
       ]
      },
      {
       "output_type": "stream",
       "stream": "stdout",
       "text": [
        "\n",
        "8 of 9 flashes have > 10 points. Their average area =  29.8 km^2"
       ]
      },
      {
       "output_type": "stream",
       "stream": "stdout",
       "text": [
        "\n",
        "Volume of hull of points in current view is 412.6"
       ]
      },
      {
       "output_type": "stream",
       "stream": "stdout",
       "text": [
        "\n",
        "1 of 1 flashes have > 10 points. Their average area = 158.3 km^2"
       ]
      },
      {
       "output_type": "stream",
       "stream": "stdout",
       "text": [
        "\n",
        "Volume of hull of points in current view is 177.2"
       ]
      },
      {
       "output_type": "stream",
       "stream": "stdout",
       "text": [
        "\n",
        "1 of 1 flashes have > 10 points. Their average area = 158.3 km^2"
       ]
      },
      {
       "output_type": "stream",
       "stream": "stdout",
       "text": [
        "\n",
        "Volume of hull of points in current view is   1.9\n",
        "1 of 1 flashes have > 10 points. Their average area = 158.3 km^2"
       ]
      },
      {
       "output_type": "stream",
       "stream": "stdout",
       "text": [
        "\n",
        "Volume of hull of points in current view is   1.0\n",
        "1 of 1 flashes have > 10 points. Their average area = 158.3 km^2"
       ]
      },
      {
       "output_type": "stream",
       "stream": "stdout",
       "text": [
        "\n",
        "Volume of hull of points in current view is   1.9\n",
        "1 of 1 flashes have > 10 points. Their average area = 158.3 km^2"
       ]
      },
      {
       "output_type": "stream",
       "stream": "stdout",
       "text": [
        "\n",
        "Volume of hull of points in current view is 177.2"
       ]
      },
      {
       "output_type": "stream",
       "stream": "stdout",
       "text": [
        "\n",
        "1 of 1 flashes have > 10 points. Their average area = 158.3 km^2"
       ]
      },
      {
       "output_type": "stream",
       "stream": "stdout",
       "text": [
        "\n",
        "Volume of hull of points in current view is  89.9"
       ]
      }
     ],
     "prompt_number": 10
    },
    {
     "cell_type": "markdown",
     "metadata": {},
     "source": [
      "What if we take the points on the volumetric hull, and PCA decompose those? Will the envelope have a major axis that is more aligned along the plate area?"
     ]
    },
    {
     "cell_type": "markdown",
     "metadata": {},
     "source": [
      "Further analysis\n",
      "----------------\n",
      "\n",
      "If your analysis is hard to explain, maybe it would help to include an equation with LaTeX: $$y=x^2$$"
     ]
    },
    {
     "cell_type": "code",
     "collapsed": false,
     "input": [],
     "language": "python",
     "metadata": {},
     "outputs": []
    }
   ],
   "metadata": {}
  }
 ]
}